{
  "nbformat": 4,
  "nbformat_minor": 0,
  "metadata": {
    "colab": {
      "name": "Image recognition.ipynb",
      "provenance": [],
      "authorship_tag": "ABX9TyM1ymCjrlF4HlXB5Q/NOUaW",
      "include_colab_link": true
    },
    "kernelspec": {
      "name": "python3",
      "display_name": "Python 3"
    },
    "language_info": {
      "name": "python"
    },
    "accelerator": "GPU"
  },
  "cells": [
    {
      "cell_type": "markdown",
      "metadata": {
        "id": "view-in-github",
        "colab_type": "text"
      },
      "source": [
        "<a href=\"https://colab.research.google.com/github/Amogh-Umesh/Facial-Recognition-with-siamese-networks/blob/main/Image_recognition.ipynb\" target=\"_parent\"><img src=\"https://colab.research.google.com/assets/colab-badge.svg\" alt=\"Open In Colab\"/></a>"
      ]
    },
    {
      "cell_type": "code",
      "metadata": {
        "id": "L47-DToxDqXj",
        "colab": {
          "base_uri": "https://localhost:8080/"
        },
        "outputId": "5c78023e-0377-4e7b-9965-358dbe3268ce"
      },
      "source": [
        "from google.colab import drive\n",
        "drive.mount('/content/drive')"
      ],
      "execution_count": 2,
      "outputs": [
        {
          "output_type": "stream",
          "text": [
            "Drive already mounted at /content/drive; to attempt to forcibly remount, call drive.mount(\"/content/drive\", force_remount=True).\n"
          ],
          "name": "stdout"
        }
      ]
    },
    {
      "cell_type": "code",
      "metadata": {
        "id": "IGYbApbTEkV-"
      },
      "source": [
        "import numpy as np\n",
        "data_old = np.load('/content/drive/My Drive/olivetti_faces.npy')\n",
        "print(data_old)"
      ],
      "execution_count": null,
      "outputs": []
    },
    {
      "cell_type": "code",
      "metadata": {
        "colab": {
          "base_uri": "https://localhost:8080/"
        },
        "id": "e1W-kVWlgPw8",
        "outputId": "c56a4f9c-e954-4814-acab-ebbe0ebcd948"
      },
      "source": [
        "import random\n",
        "randomlist = []\n",
        "x = True\n",
        "count = 0\n",
        "a = 10\n",
        "for b in range(1,41):\n",
        "    a = b*10\n",
        "    x = True\n",
        "    while x:\n",
        "        n = random.randint(a-10, a-1)\n",
        "        if n not in randomlist:\n",
        "            randomlist.append(n)\n",
        "            count += 1\n",
        "            if count == 5:\n",
        "                count = 0\n",
        "                x = False\n",
        "print(randomlist)"
      ],
      "execution_count": 4,
      "outputs": [
        {
          "output_type": "stream",
          "text": [
            "[5, 9, 1, 0, 8, 16, 17, 15, 14, 12, 24, 20, 28, 21, 27, 39, 38, 33, 35, 34, 42, 40, 46, 44, 45, 52, 59, 56, 54, 53, 65, 63, 62, 66, 60, 72, 75, 71, 77, 76, 80, 85, 82, 88, 86, 99, 94, 97, 90, 98, 101, 100, 109, 102, 103, 113, 118, 110, 112, 116, 127, 121, 125, 124, 122, 130, 135, 133, 136, 131, 149, 140, 145, 141, 142, 159, 155, 157, 156, 152, 160, 169, 162, 161, 165, 174, 172, 173, 175, 171, 184, 188, 183, 181, 180, 193, 191, 196, 198, 194, 207, 206, 202, 209, 203, 212, 211, 219, 216, 217, 221, 228, 225, 224, 220, 231, 236, 234, 238, 230, 244, 249, 242, 248, 245, 257, 258, 255, 252, 253, 266, 267, 261, 262, 264, 274, 273, 270, 279, 276, 284, 280, 282, 283, 288, 296, 295, 293, 291, 290, 306, 308, 304, 305, 301, 319, 312, 318, 311, 313, 327, 321, 322, 323, 329, 331, 336, 332, 339, 337, 345, 346, 347, 348, 344, 357, 359, 352, 358, 355, 369, 366, 365, 362, 367, 376, 374, 372, 379, 371, 382, 385, 380, 384, 389, 393, 398, 392, 396, 395]\n"
          ],
          "name": "stdout"
        }
      ]
    },
    {
      "cell_type": "code",
      "metadata": {
        "id": "DLCs8NdwjBtk",
        "colab": {
          "base_uri": "https://localhost:8080/"
        },
        "outputId": "205b0bf6-3ad4-4e09-c910-117f287fe30a"
      },
      "source": [
        "data = []\n",
        "for i in randomlist:\n",
        "  data.append(data_old[i])\n",
        "print('done')"
      ],
      "execution_count": 5,
      "outputs": [
        {
          "output_type": "stream",
          "text": [
            "done\n"
          ],
          "name": "stdout"
        }
      ]
    },
    {
      "cell_type": "code",
      "metadata": {
        "colab": {
          "base_uri": "https://localhost:8080/"
        },
        "id": "v1To6ge_Njxw",
        "outputId": "0c851a73-f422-4e32-9475-2a102164c6c8"
      },
      "source": [
        "anchor_old = []\n",
        "positive_old = []\n",
        "negative_old = []\n",
        "for person in range(1, 41):\n",
        "  img_range = person * 5\n",
        "  for anc in range(img_range-5, img_range):    \n",
        "    for pos in range(img_range-5, img_range):\n",
        "      if pos != anc:\n",
        "        for neg in range(0, 200):\n",
        "          if neg >= img_range or neg < (img_range - 5):\n",
        "            anchor_old.append(anc)\n",
        "            positive_old.append(pos)\n",
        "            negative_old.append(neg)\n",
        "print('{} {} {}'.format(len(anchor_old), len(positive_old), len(negative_old)))"
      ],
      "execution_count": 6,
      "outputs": [
        {
          "output_type": "stream",
          "text": [
            "156000 156000 156000\n"
          ],
          "name": "stdout"
        }
      ]
    },
    {
      "cell_type": "code",
      "metadata": {
        "colab": {
          "base_uri": "https://localhost:8080/",
          "height": 268
        },
        "id": "d9sQyxcuyXyd",
        "outputId": "422a7aa8-ab39-49d8-f519-20b47a3fd0bd"
      },
      "source": [
        "from matplotlib import pyplot as plt\n",
        "b = data[0]\n",
        "plt.imshow(b, cmap='gray')\n",
        "plt.show()"
      ],
      "execution_count": 7,
      "outputs": [
        {
          "output_type": "display_data",
          "data": {
            "image/png": "[encoded data removed]",
            "text/plain": [
              "<Figure size 432x288 with 1 Axes>"
            ]
          },
          "metadata": {
            "tags": [],
            "needs_background": "light"
          }
        }
      ]
    },
    {
      "cell_type": "code",
      "metadata": {
        "colab": {
          "base_uri": "https://localhost:8080/"
        },
        "id": "JUcNxD9uP0-A",
        "outputId": "fe076ee7-85c7-4a4a-a687-fc5584baf159"
      },
      "source": [
        "def get_random_list():\n",
        "  temp_arr = [i for i in range(0,156000)]\n",
        "  np.random.shuffle(temp_arr)\n",
        "  return temp_arr\n",
        "\n",
        "print(len(get_random_list()))"
      ],
      "execution_count": 8,
      "outputs": [
        {
          "output_type": "stream",
          "text": [
            "156000\n"
          ],
          "name": "stdout"
        }
      ]
    },
    {
      "cell_type": "code",
      "metadata": {
        "id": "VRpp9gV9P3c1"
      },
      "source": [
        "def shuffler():\n",
        "  temp_arr = get_random_list()\n",
        "  anchor = []\n",
        "  positive = []\n",
        "  negative = []\n",
        "  for j in range(0,156000):\n",
        "    anchor.append(anchor_old[temp_arr[j]])\n",
        "    positive.append(positive_old[temp_arr[j]])\n",
        "    negative.append(negative_old[temp_arr[j]])\n",
        "  return ([anchor, positive, negative])"
      ],
      "execution_count": 9,
      "outputs": []
    },
    {
      "cell_type": "code",
      "metadata": {
        "id": "EXx3Kip7QGTZ"
      },
      "source": [
        "counter = 0\n",
        "shuffled_data = shuffler()\n",
        "def create_batch():\n",
        "  global counter, shuffled_data  \n",
        "  batch_size=64\n",
        "  counter+=1\n",
        "  if counter == 2438:\n",
        "    shuffled_data = shuffler()\n",
        "    counter = counter%2438\n",
        "  anchor = shuffled_data[0]\n",
        "  positive = shuffled_data[1]\n",
        "  negative = shuffled_data[2]\n",
        "  ind = counter*batch_size\n",
        "  if counter < 2437:\n",
        "    batch = [np.array([data[j] for j in anchor[ind:ind+64]]), np.array([data[j] for j in positive[ind:ind+64]]), np.array([data[j] for j in negative[ind:ind+64]])]\n",
        "  elif counter == 2437:\n",
        "    batch = [np.array([data[j] for j in anchor[ind:]]), np.array([data[j] for j in positive[ind:]]), np.array([data[j] for j in negative[ind:]])]\n",
        "  return(batch)\n",
        "\n",
        "def data_generator():\n",
        "  global shuffled_data\n",
        "  shuffled_data = shuffler()\n",
        "  while True:\n",
        "      x = create_batch()\n",
        "      y = np.zeros((64, 3*128))\n",
        "      yield x,y"
      ],
      "execution_count": 10,
      "outputs": []
    },
    {
      "cell_type": "code",
      "metadata": {
        "id": "pv6i1SZWHQzp"
      },
      "source": [
        "import keras\n",
        "from keras.models import Sequential\n",
        "from keras.layers import Dense, Dropout, Activation, Flatten\n",
        "from keras.layers import Convolution2D, MaxPooling2D\n",
        "import tensorflow as tf"
      ],
      "execution_count": 11,
      "outputs": []
    },
    {
      "cell_type": "code",
      "metadata": {
        "id": "m20KMx_8HVB5"
      },
      "source": [
        "def cnn_net():\n",
        "  model = Sequential()\n",
        "  model.add(Convolution2D(32, kernel_size = (4,4), activation = 'relu', input_shape=(64,64,1)))\n",
        "  model.add(MaxPooling2D(pool_size=(2,2), strides = 2))\n",
        "  model.add(Convolution2D(32, kernel_size = (3,3), activation='relu'))\n",
        "  model.add(MaxPooling2D(pool_size=(2,2), strides = 2))  \n",
        "  model.add(Convolution2D(16, kernel_size = (2,2), activation='relu'))\n",
        "  model.add(Flatten())\n",
        "  model.add(Dense(64, activation='relu'))  \n",
        "  model.add(Dense(128, activation='sigmoid'))\n",
        "  return model"
      ],
      "execution_count": 12,
      "outputs": []
    },
    {
      "cell_type": "code",
      "metadata": {
        "id": "uadFnwOjkekx"
      },
      "source": [
        "feature_extractor = cnn_net()"
      ],
      "execution_count": 13,
      "outputs": []
    },
    {
      "cell_type": "code",
      "metadata": {
        "colab": {
          "base_uri": "https://localhost:8080/"
        },
        "id": "0k7U55P5QRPf",
        "outputId": "7641ba13-3f24-4edc-ebc4-250a3fdd1495"
      },
      "source": [
        "input_anchor = tf.keras.layers.Input(shape=(64,64,1))\n",
        "input_positive = tf.keras.layers.Input(shape=(64,64,1))\n",
        "input_negative = tf.keras.layers.Input(shape=(64,64,1))\n",
        "embedding_anchor = feature_extractor(input_anchor)\n",
        "embedding_positive = feature_extractor(input_positive)\n",
        "embedding_negative = feature_extractor(input_negative)\n",
        "output = [embedding_anchor, embedding_positive, embedding_negative]\n",
        "siamese_net = tf.keras.models.Model([input_anchor, input_positive, input_negative], output)\n",
        "siamese_net.summary()"
      ],
      "execution_count": 14,
      "outputs": [
        {
          "output_type": "stream",
          "text": [
            "Model: \"model\"\n",
            "__________________________________________________________________________________________________\n",
            "Layer (type)                    Output Shape         Param #     Connected to                     \n",
            "==================================================================================================\n",
            "input_1 (InputLayer)            [(None, 64, 64, 1)]  0                                            \n",
            "__________________________________________________________________________________________________\n",
            "input_2 (InputLayer)            [(None, 64, 64, 1)]  0                                            \n",
            "__________________________________________________________________________________________________\n",
            "input_3 (InputLayer)            [(None, 64, 64, 1)]  0                                            \n",
            "__________________________________________________________________________________________________\n",
            "sequential (Sequential)         (None, 128)          193296      input_1[0][0]                    \n",
            "                                                                 input_2[0][0]                    \n",
            "                                                                 input_3[0][0]                    \n",
            "==================================================================================================\n",
            "Total params: 193,296\n",
            "Trainable params: 193,296\n",
            "Non-trainable params: 0\n",
            "__________________________________________________________________________________________________\n"
          ],
          "name": "stdout"
        }
      ]
    },
    {
      "cell_type": "code",
      "metadata": {
        "id": "TQsJSxtPQWD-"
      },
      "source": [
        "def triplet_loss(y_true, pred): \n",
        "    a = 0.2\n",
        "    anc = pred[0]\n",
        "    pos = pred[1]\n",
        "    neg = pred[2]\n",
        "    ap1 = tf.square(anc - pos)\n",
        "    an1 = tf.square(anc - neg)    \n",
        "    ap2 , an2 = [], []\n",
        "    for x in range(64):\n",
        "      ap2.append(tf.maximum(tf.reduce_sum(ap1[x]), 0.))\n",
        "      an2.append(tf.maximum(tf.reduce_sum(an1[x]), 0.))    \n",
        "    ap2 = tf.convert_to_tensor(ap2)\n",
        "    an2 = tf.convert_to_tensor(an2)    \n",
        "    AP = tf.reduce_sum(ap2)\n",
        "    AN = tf.reduce_sum(an1)\n",
        "    diff = (AP - AN)/10\n",
        "    loss = tf.maximum(diff + a, 0.)\n",
        "    return loss"
      ],
      "execution_count": 15,
      "outputs": []
    },
    {
      "cell_type": "code",
      "metadata": {
        "id": "clO7OhfYQ3SG"
      },
      "source": [
        "from IPython.display import clear_output\n",
        "class PlotLosses(keras.callbacks.Callback):\n",
        "    def on_train_begin(self, logs={}):\n",
        "        self.i = 0\n",
        "        self.x = []\n",
        "        self.losses = []\n",
        "        self.val_losses = []\n",
        "        \n",
        "        self.fig = plt.figure()\n",
        "        \n",
        "        self.logs = []\n",
        "\n",
        "    def on_epoch_end(self, epoch, logs={}):\n",
        "        \n",
        "        self.logs.append(logs)\n",
        "        self.x.append(self.i)\n",
        "        self.losses.append(logs.get('loss'))\n",
        "        self.val_losses.append(logs.get('val_loss'))\n",
        "        self.i += 1\n",
        "        \n",
        "        clear_output(wait=True)\n",
        "        plt.plot(self.x, self.losses, label=\"loss\")        \n",
        "        plt.legend()\n",
        "        plt.show();\n",
        "        \n",
        "plot_losses = PlotLosses()"
      ],
      "execution_count": 16,
      "outputs": []
    },
    {
      "cell_type": "code",
      "metadata": {
        "id": "FNNa9LpUQZBm"
      },
      "source": [
        "opt = keras.optimizers.Adam(lr = 0.0001)\n",
        "siamese_net.compile(loss=triplet_loss, optimizer= opt)"
      ],
      "execution_count": 17,
      "outputs": []
    },
    {
      "cell_type": "code",
      "metadata": {
        "id": "UK5GibhfQa3-"
      },
      "source": [
        "print(siamese_net(create_batch())[0].shape)"
      ],
      "execution_count": null,
      "outputs": []
    },
    {
      "cell_type": "code",
      "metadata": {
        "colab": {
          "base_uri": "https://localhost:8080/"
        },
        "id": "XCgmZYacQdHa",
        "outputId": "3313cd2a-373f-4936-dd0a-43a9393f0776"
      },
      "source": [
        "print(triplet_loss(0, siamese_net(create_batch())))\n",
        "print(counter)"
      ],
      "execution_count": 23,
      "outputs": [
        {
          "output_type": "stream",
          "text": [
            "tf.Tensor(0.19704613, shape=(), dtype=float32)\n",
            "7\n"
          ],
          "name": "stdout"
        }
      ]
    },
    {
      "cell_type": "code",
      "metadata": {
        "colab": {
          "base_uri": "https://localhost:8080/",
          "height": 268
        },
        "id": "FjPCPZtLQfjv",
        "outputId": "015052b3-dd37-40a8-de7c-b775b5aaee47"
      },
      "source": [
        "from keras.callbacks import EarlyStopping\n",
        "from keras.callbacks import ReduceLROnPlateau\n",
        "early_stopping = EarlyStopping(monitor='val_loss', patience=50, mode='auto', restore_best_weights=True)\n",
        "reduce_on_plateau = ReduceLROnPlateau(monitor=\"val_loss\", factor=0.8, patience=15, cooldown=5, verbose=0)\n",
        "\n",
        "H = siamese_net.fit(data_generator(), epochs = 10, verbose = 1, callbacks = [early_stopping, plot_losses], steps_per_epoch=2437)"
      ],
      "execution_count": 19,
      "outputs": [
        {
          "output_type": "display_data",
          "data": {
            "image/png": "[encoded data removed]",
            "text/plain": [
              "<Figure size 432x288 with 1 Axes>"
            ]
          },
          "metadata": {
            "tags": [],
            "needs_background": "light"
          }
        }
      ]
    },
    {
      "cell_type": "code",
      "metadata": {
        "colab": {
          "base_uri": "https://localhost:8080/"
        },
        "id": "dStcD-lzQj0n",
        "outputId": "6df5086e-89d2-4053-b822-faad60b78e30"
      },
      "source": [
        "model_json = siamese_net.to_json()\n",
        "with open(\"/content/drive/My Drive/siamese_net_best.json\", \"w\") as json_file:\n",
        "    json_file.write(model_json)\n",
        "siamese_net.save_weights(\"/content/drive/My Drive/model_best.h5\")\n",
        "print(\"Saved model to drive\")"
      ],
      "execution_count": 20,
      "outputs": [
        {
          "output_type": "stream",
          "text": [
            "Saved model to drive\n"
          ],
          "name": "stdout"
        }
      ]
    },
    {
      "cell_type": "code",
      "metadata": {
        "colab": {
          "base_uri": "https://localhost:8080/"
        },
        "id": "-QcDubZcQn9A",
        "outputId": "0ad84373-58cf-4e3b-a1d0-3cfabcd15ccc"
      },
      "source": [
        "def test_data():\n",
        "  for a in range(0,300):\n",
        "      x = create_batch()\n",
        "      y = np.zeros((64, 3*128))\n",
        "      yield x,y\n",
        "score = siamese_net.evaluate(test_data(), verbose = 1)\n",
        "print(score)\n",
        "print(\"%s: %.2f%%\" % (siamese_net.metrics_names[2], score[2]*100))"
      ],
      "execution_count": 28,
      "outputs": [
        {
          "output_type": "stream",
          "text": [
            "300/300 [==============================] - 11s 27ms/step - loss: 0.6000 - sequential_loss: 0.2000 - sequential_1_loss: 0.2000 - sequential_2_loss: 0.2000\n",
            "[0.6000010371208191, 0.20000052452087402, 0.20000052452087402, 0.20000052452087402]\n",
            "sequential_1_loss: 20.00%\n"
          ],
          "name": "stdout"
        }
      ]
    },
    {
      "cell_type": "code",
      "metadata": {
        "colab": {
          "base_uri": "https://localhost:8080/"
        },
        "id": "TlG6BDRjQolH",
        "outputId": "b3f2e3f5-83ba-4727-c435-45c3682a6544"
      },
      "source": [
        "def tester(anc, pos, neg):     \n",
        "    AP = tf.reduce_mean(tf.square(anc - pos))\n",
        "    AN = tf.reduce_mean(tf.square(anc - neg))\n",
        "    return [AP, AN]\n",
        "print(tester(feature_extractor([data[0].reshape(1,64,64,1)]), feature_extractor([data[1].reshape(1,64,64,1)]), feature_extractor([data[30].reshape(1,64,64,1)])))"
      ],
      "execution_count": 29,
      "outputs": [
        {
          "output_type": "stream",
          "text": [
            "[<tf.Tensor: shape=(), dtype=float32, numpy=2.2203744e-24>, <tf.Tensor: shape=(), dtype=float32, numpy=1.1164599e-24>]\n"
          ],
          "name": "stdout"
        }
      ]
    },
    {
      "cell_type": "code",
      "metadata": {
        "id": "9eDdpxYoRaia"
      },
      "source": [
        "import time\n",
        "time.sleep(10000)\n",
        "print('f')"
      ],
      "execution_count": null,
      "outputs": []
    }
  ]
}